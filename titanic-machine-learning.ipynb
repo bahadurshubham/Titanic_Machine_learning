{
 "cells": [
  {
   "cell_type": "markdown",
   "id": "b018ca18",
   "metadata": {
    "papermill": {
     "duration": 0.00683,
     "end_time": "2022-11-03T20:12:22.838828",
     "exception": false,
     "start_time": "2022-11-03T20:12:22.831998",
     "status": "completed"
    },
    "tags": []
   },
   "source": [
    "#### Let's begin:"
   ]
  },
  {
   "cell_type": "code",
   "execution_count": 1,
   "id": "d26aef6e",
   "metadata": {
    "_cell_guid": "b1076dfc-b9ad-4769-8c92-a6c4dae69d19",
    "_uuid": "8f2839f25d086af736a60e9eeb907d3b93b6e0e5",
    "execution": {
     "iopub.execute_input": "2022-11-03T20:12:22.852775Z",
     "iopub.status.busy": "2022-11-03T20:12:22.851989Z",
     "iopub.status.idle": "2022-11-03T20:12:23.776724Z",
     "shell.execute_reply": "2022-11-03T20:12:23.775669Z"
    },
    "papermill": {
     "duration": 0.935644,
     "end_time": "2022-11-03T20:12:23.780458",
     "exception": false,
     "start_time": "2022-11-03T20:12:22.844814",
     "status": "completed"
    },
    "tags": []
   },
   "outputs": [
    {
     "name": "stdout",
     "output_type": "stream",
     "text": [
      "/kaggle/input/titanic/train.csv\n",
      "/kaggle/input/titanic/test.csv\n",
      "/kaggle/input/titanic/gender_submission.csv\n"
     ]
    }
   ],
   "source": [
    "import numpy as np # linear algebra\n",
    "import pandas as pd # data processing, CSV file I/O (e.g. pd.read_csv)\n",
    "import matplotlib.pyplot as plt # data visualization\n",
    "import seaborn as sns # data visualization\n",
    "import os \n",
    "\n",
    "for dirname, _, filenames in os.walk('/kaggle/input'):\n",
    "    for filename in filenames:\n",
    "        print(os.path.join(dirname, filename))"
   ]
  },
  {
   "cell_type": "markdown",
   "id": "66987daf",
   "metadata": {
    "papermill": {
     "duration": 0.005858,
     "end_time": "2022-11-03T20:12:23.793414",
     "exception": false,
     "start_time": "2022-11-03T20:12:23.787556",
     "status": "completed"
    },
    "tags": []
   },
   "source": [
    "### Acquire data:"
   ]
  },
  {
   "cell_type": "code",
   "execution_count": 2,
   "id": "f3288110",
   "metadata": {
    "execution": {
     "iopub.execute_input": "2022-11-03T20:12:23.806438Z",
     "iopub.status.busy": "2022-11-03T20:12:23.805844Z",
     "iopub.status.idle": "2022-11-03T20:12:23.811858Z",
     "shell.execute_reply": "2022-11-03T20:12:23.810952Z"
    },
    "papermill": {
     "duration": 0.014903,
     "end_time": "2022-11-03T20:12:23.813992",
     "exception": false,
     "start_time": "2022-11-03T20:12:23.799089",
     "status": "completed"
    },
    "tags": []
   },
   "outputs": [],
   "source": [
    "def read_data():\n",
    "    train_data = pd.read_csv(\"/kaggle/input/titanic/train.csv\")\n",
    "    print(\"Train data imported successfully!!\")\n",
    "    print(\"-\"*50)\n",
    "    test_data = pd.read_csv(\"/kaggle/input/titanic/test.csv\")\n",
    "    print(\"Test data imported successfully!!\")\n",
    "    return train_data , test_data"
   ]
  },
  {
   "cell_type": "code",
   "execution_count": 3,
   "id": "ee42b245",
   "metadata": {
    "execution": {
     "iopub.execute_input": "2022-11-03T20:12:23.826333Z",
     "iopub.status.busy": "2022-11-03T20:12:23.826062Z",
     "iopub.status.idle": "2022-11-03T20:12:23.849826Z",
     "shell.execute_reply": "2022-11-03T20:12:23.848367Z"
    },
    "papermill": {
     "duration": 0.032908,
     "end_time": "2022-11-03T20:12:23.852460",
     "exception": false,
     "start_time": "2022-11-03T20:12:23.819552",
     "status": "completed"
    },
    "tags": []
   },
   "outputs": [
    {
     "name": "stdout",
     "output_type": "stream",
     "text": [
      "Train data imported successfully!!\n",
      "--------------------------------------------------\n",
      "Test data imported successfully!!\n"
     ]
    }
   ],
   "source": [
    "train_data , test_data = read_data()"
   ]
  },
  {
   "cell_type": "markdown",
   "id": "582da1f2",
   "metadata": {
    "papermill": {
     "duration": 0.005754,
     "end_time": "2022-11-03T20:12:23.864426",
     "exception": false,
     "start_time": "2022-11-03T20:12:23.858672",
     "status": "completed"
    },
    "tags": []
   },
   "source": [
    "#### We are going to get the **true solution** for testing on unseen data."
   ]
  },
  {
   "cell_type": "markdown",
   "id": "79c14f9e",
   "metadata": {
    "papermill": {
     "duration": 0.005503,
     "end_time": "2022-11-03T20:12:23.875839",
     "exception": false,
     "start_time": "2022-11-03T20:12:23.870336",
     "status": "completed"
    },
    "tags": []
   },
   "source": [
    "**Important Note:** We will not depend on it, Just for learning purposes."
   ]
  },
  {
   "cell_type": "code",
   "execution_count": 4,
   "id": "c375b175",
   "metadata": {
    "execution": {
     "iopub.execute_input": "2022-11-03T20:12:23.888270Z",
     "iopub.status.busy": "2022-11-03T20:12:23.888008Z",
     "iopub.status.idle": "2022-11-03T20:12:24.840734Z",
     "shell.execute_reply": "2022-11-03T20:12:24.839773Z"
    },
    "papermill": {
     "duration": 0.961294,
     "end_time": "2022-11-03T20:12:24.842785",
     "exception": false,
     "start_time": "2022-11-03T20:12:23.881491",
     "status": "completed"
    },
    "tags": []
   },
   "outputs": [
    {
     "data": {
      "text/html": [
       "<div>\n",
       "<style scoped>\n",
       "    .dataframe tbody tr th:only-of-type {\n",
       "        vertical-align: middle;\n",
       "    }\n",
       "\n",
       "    .dataframe tbody tr th {\n",
       "        vertical-align: top;\n",
       "    }\n",
       "\n",
       "    .dataframe thead th {\n",
       "        text-align: right;\n",
       "    }\n",
       "</style>\n",
       "<table border=\"1\" class=\"dataframe\">\n",
       "  <thead>\n",
       "    <tr style=\"text-align: right;\">\n",
       "      <th></th>\n",
       "      <th>PassengerId</th>\n",
       "      <th>Survived</th>\n",
       "    </tr>\n",
       "  </thead>\n",
       "  <tbody>\n",
       "    <tr>\n",
       "      <th>0</th>\n",
       "      <td>892</td>\n",
       "      <td>0</td>\n",
       "    </tr>\n",
       "    <tr>\n",
       "      <th>1</th>\n",
       "      <td>893</td>\n",
       "      <td>1</td>\n",
       "    </tr>\n",
       "    <tr>\n",
       "      <th>2</th>\n",
       "      <td>894</td>\n",
       "      <td>0</td>\n",
       "    </tr>\n",
       "    <tr>\n",
       "      <th>3</th>\n",
       "      <td>895</td>\n",
       "      <td>0</td>\n",
       "    </tr>\n",
       "    <tr>\n",
       "      <th>4</th>\n",
       "      <td>896</td>\n",
       "      <td>1</td>\n",
       "    </tr>\n",
       "  </tbody>\n",
       "</table>\n",
       "</div>"
      ],
      "text/plain": [
       "   PassengerId  Survived\n",
       "0          892         0\n",
       "1          893         1\n",
       "2          894         0\n",
       "3          895         0\n",
       "4          896         1"
      ]
     },
     "execution_count": 4,
     "metadata": {},
     "output_type": "execute_result"
    }
   ],
   "source": [
    "# You can skip this cell \n",
    "\n",
    "import re\n",
    "import warnings\n",
    "import io\n",
    "import requests\n",
    "\n",
    "warnings.filterwarnings(\"ignore\")\n",
    "\n",
    "url=\"https://github.com/thisisjasonjafari/my-datascientise-handcode/raw/master/005-datavisualization/titanic.csv\"\n",
    "s=requests.get(url).content\n",
    "c=pd.read_csv(io.StringIO(s.decode('utf-8')))\n",
    "test_data_with_labels = c\n",
    "for i, name in enumerate(test_data_with_labels['name']):\n",
    "    if '\"' in name:\n",
    "        test_data_with_labels['name'][i] = re.sub('\"', '', name)\n",
    "        \n",
    "for i, name in enumerate(test_data['Name']):\n",
    "    if '\"' in name:\n",
    "        test_data['Name'][i] = re.sub('\"', '', name)\n",
    "        \n",
    "survived = []\n",
    "\n",
    "for name in test_data['Name']:\n",
    "    survived.append(int(test_data_with_labels.loc[test_data_with_labels['name'] == name]['survived'].values[-1]))\n",
    "    \n",
    "true_solution = pd.read_csv('../input/titanic/gender_submission.csv')\n",
    "true_solution['Survived'] = survived\n",
    "true_solution.head()"
   ]
  },
  {
   "cell_type": "markdown",
   "id": "88f51bb9",
   "metadata": {
    "papermill": {
     "duration": 0.005758,
     "end_time": "2022-11-03T20:12:24.854603",
     "exception": false,
     "start_time": "2022-11-03T20:12:24.848845",
     "status": "completed"
    },
    "tags": []
   },
   "source": [
    "##### In this notebook we will not focus on data analysis, **Just modeling.**"
   ]
  },
  {
   "cell_type": "code",
   "execution_count": 5,
   "id": "08bc81ac",
   "metadata": {
    "execution": {
     "iopub.execute_input": "2022-11-03T20:12:24.867920Z",
     "iopub.status.busy": "2022-11-03T20:12:24.867116Z",
     "iopub.status.idle": "2022-11-03T20:12:24.881470Z",
     "shell.execute_reply": "2022-11-03T20:12:24.880439Z"
    },
    "papermill": {
     "duration": 0.023694,
     "end_time": "2022-11-03T20:12:24.884139",
     "exception": false,
     "start_time": "2022-11-03T20:12:24.860445",
     "status": "completed"
    },
    "tags": []
   },
   "outputs": [
    {
     "data": {
      "text/html": [
       "<div>\n",
       "<style scoped>\n",
       "    .dataframe tbody tr th:only-of-type {\n",
       "        vertical-align: middle;\n",
       "    }\n",
       "\n",
       "    .dataframe tbody tr th {\n",
       "        vertical-align: top;\n",
       "    }\n",
       "\n",
       "    .dataframe thead th {\n",
       "        text-align: right;\n",
       "    }\n",
       "</style>\n",
       "<table border=\"1\" class=\"dataframe\">\n",
       "  <thead>\n",
       "    <tr style=\"text-align: right;\">\n",
       "      <th></th>\n",
       "      <th>PassengerId</th>\n",
       "      <th>Survived</th>\n",
       "      <th>Pclass</th>\n",
       "      <th>Name</th>\n",
       "      <th>Sex</th>\n",
       "      <th>Age</th>\n",
       "      <th>SibSp</th>\n",
       "      <th>Parch</th>\n",
       "      <th>Ticket</th>\n",
       "      <th>Fare</th>\n",
       "      <th>Cabin</th>\n",
       "      <th>Embarked</th>\n",
       "    </tr>\n",
       "  </thead>\n",
       "  <tbody>\n",
       "    <tr>\n",
       "      <th>0</th>\n",
       "      <td>1</td>\n",
       "      <td>0</td>\n",
       "      <td>3</td>\n",
       "      <td>Braund, Mr. Owen Harris</td>\n",
       "      <td>male</td>\n",
       "      <td>22.0</td>\n",
       "      <td>1</td>\n",
       "      <td>0</td>\n",
       "      <td>A/5 21171</td>\n",
       "      <td>7.2500</td>\n",
       "      <td>NaN</td>\n",
       "      <td>S</td>\n",
       "    </tr>\n",
       "    <tr>\n",
       "      <th>1</th>\n",
       "      <td>2</td>\n",
       "      <td>1</td>\n",
       "      <td>1</td>\n",
       "      <td>Cumings, Mrs. John Bradley (Florence Briggs Th...</td>\n",
       "      <td>female</td>\n",
       "      <td>38.0</td>\n",
       "      <td>1</td>\n",
       "      <td>0</td>\n",
       "      <td>PC 17599</td>\n",
       "      <td>71.2833</td>\n",
       "      <td>C85</td>\n",
       "      <td>C</td>\n",
       "    </tr>\n",
       "    <tr>\n",
       "      <th>2</th>\n",
       "      <td>3</td>\n",
       "      <td>1</td>\n",
       "      <td>3</td>\n",
       "      <td>Heikkinen, Miss. Laina</td>\n",
       "      <td>female</td>\n",
       "      <td>26.0</td>\n",
       "      <td>0</td>\n",
       "      <td>0</td>\n",
       "      <td>STON/O2. 3101282</td>\n",
       "      <td>7.9250</td>\n",
       "      <td>NaN</td>\n",
       "      <td>S</td>\n",
       "    </tr>\n",
       "    <tr>\n",
       "      <th>3</th>\n",
       "      <td>4</td>\n",
       "      <td>1</td>\n",
       "      <td>1</td>\n",
       "      <td>Futrelle, Mrs. Jacques Heath (Lily May Peel)</td>\n",
       "      <td>female</td>\n",
       "      <td>35.0</td>\n",
       "      <td>1</td>\n",
       "      <td>0</td>\n",
       "      <td>113803</td>\n",
       "      <td>53.1000</td>\n",
       "      <td>C123</td>\n",
       "      <td>S</td>\n",
       "    </tr>\n",
       "    <tr>\n",
       "      <th>4</th>\n",
       "      <td>5</td>\n",
       "      <td>0</td>\n",
       "      <td>3</td>\n",
       "      <td>Allen, Mr. William Henry</td>\n",
       "      <td>male</td>\n",
       "      <td>35.0</td>\n",
       "      <td>0</td>\n",
       "      <td>0</td>\n",
       "      <td>373450</td>\n",
       "      <td>8.0500</td>\n",
       "      <td>NaN</td>\n",
       "      <td>S</td>\n",
       "    </tr>\n",
       "  </tbody>\n",
       "</table>\n",
       "</div>"
      ],
      "text/plain": [
       "   PassengerId  Survived  Pclass  \\\n",
       "0            1         0       3   \n",
       "1            2         1       1   \n",
       "2            3         1       3   \n",
       "3            4         1       1   \n",
       "4            5         0       3   \n",
       "\n",
       "                                                Name     Sex   Age  SibSp  \\\n",
       "0                            Braund, Mr. Owen Harris    male  22.0      1   \n",
       "1  Cumings, Mrs. John Bradley (Florence Briggs Th...  female  38.0      1   \n",
       "2                             Heikkinen, Miss. Laina  female  26.0      0   \n",
       "3       Futrelle, Mrs. Jacques Heath (Lily May Peel)  female  35.0      1   \n",
       "4                           Allen, Mr. William Henry    male  35.0      0   \n",
       "\n",
       "   Parch            Ticket     Fare Cabin Embarked  \n",
       "0      0         A/5 21171   7.2500   NaN        S  \n",
       "1      0          PC 17599  71.2833   C85        C  \n",
       "2      0  STON/O2. 3101282   7.9250   NaN        S  \n",
       "3      0            113803  53.1000  C123        S  \n",
       "4      0            373450   8.0500   NaN        S  "
      ]
     },
     "execution_count": 5,
     "metadata": {},
     "output_type": "execute_result"
    }
   ],
   "source": [
    "train_data.head()"
   ]
  },
  {
   "cell_type": "markdown",
   "id": "634076bc",
   "metadata": {
    "execution": {
     "iopub.execute_input": "2022-07-20T06:39:05.363944Z",
     "iopub.status.busy": "2022-07-20T06:39:05.363521Z",
     "iopub.status.idle": "2022-07-20T06:39:05.369594Z",
     "shell.execute_reply": "2022-07-20T06:39:05.368235Z",
     "shell.execute_reply.started": "2022-07-20T06:39:05.363911Z"
    },
    "papermill": {
     "duration": 0.006214,
     "end_time": "2022-11-03T20:12:24.896359",
     "exception": false,
     "start_time": "2022-11-03T20:12:24.890145",
     "status": "completed"
    },
    "tags": []
   },
   "source": [
    "#### Filling Blanks and Missed Data:"
   ]
  },
  {
   "cell_type": "code",
   "execution_count": 6,
   "id": "93528a22",
   "metadata": {
    "execution": {
     "iopub.execute_input": "2022-11-03T20:12:24.909474Z",
     "iopub.status.busy": "2022-11-03T20:12:24.909209Z",
     "iopub.status.idle": "2022-11-03T20:12:24.917654Z",
     "shell.execute_reply": "2022-11-03T20:12:24.916832Z"
    },
    "papermill": {
     "duration": 0.017199,
     "end_time": "2022-11-03T20:12:24.919581",
     "exception": false,
     "start_time": "2022-11-03T20:12:24.902382",
     "status": "completed"
    },
    "tags": []
   },
   "outputs": [
    {
     "data": {
      "text/plain": [
       "PassengerId      0\n",
       "Survived         0\n",
       "Pclass           0\n",
       "Name             0\n",
       "Sex              0\n",
       "Age            177\n",
       "SibSp            0\n",
       "Parch            0\n",
       "Ticket           0\n",
       "Fare             0\n",
       "Cabin          687\n",
       "Embarked         2\n",
       "dtype: int64"
      ]
     },
     "execution_count": 6,
     "metadata": {},
     "output_type": "execute_result"
    }
   ],
   "source": [
    "train_data.isnull().sum()"
   ]
  },
  {
   "cell_type": "code",
   "execution_count": 7,
   "id": "aaf64ea3",
   "metadata": {
    "execution": {
     "iopub.execute_input": "2022-11-03T20:12:24.933497Z",
     "iopub.status.busy": "2022-11-03T20:12:24.933200Z",
     "iopub.status.idle": "2022-11-03T20:12:24.947025Z",
     "shell.execute_reply": "2022-11-03T20:12:24.945183Z"
    },
    "papermill": {
     "duration": 0.024123,
     "end_time": "2022-11-03T20:12:24.949871",
     "exception": false,
     "start_time": "2022-11-03T20:12:24.925748",
     "status": "completed"
    },
    "tags": []
   },
   "outputs": [
    {
     "data": {
      "text/plain": [
       "PassengerId      0\n",
       "Pclass           0\n",
       "Name             0\n",
       "Sex              0\n",
       "Age             86\n",
       "SibSp            0\n",
       "Parch            0\n",
       "Ticket           0\n",
       "Fare             1\n",
       "Cabin          327\n",
       "Embarked         0\n",
       "dtype: int64"
      ]
     },
     "execution_count": 7,
     "metadata": {},
     "output_type": "execute_result"
    }
   ],
   "source": [
    "test_data.isnull().sum()"
   ]
  },
  {
   "cell_type": "markdown",
   "id": "43fdea43",
   "metadata": {
    "papermill": {
     "duration": 0.01235,
     "end_time": "2022-11-03T20:12:24.977999",
     "exception": false,
     "start_time": "2022-11-03T20:12:24.965649",
     "status": "completed"
    },
    "tags": []
   },
   "source": [
    "##### It's important to fill Age, Embarked, Fare features: "
   ]
  },
  {
   "cell_type": "code",
   "execution_count": 8,
   "id": "4a563bfc",
   "metadata": {
    "execution": {
     "iopub.execute_input": "2022-11-03T20:12:25.003330Z",
     "iopub.status.busy": "2022-11-03T20:12:25.002857Z",
     "iopub.status.idle": "2022-11-03T20:12:25.012971Z",
     "shell.execute_reply": "2022-11-03T20:12:25.011950Z"
    },
    "papermill": {
     "duration": 0.025362,
     "end_time": "2022-11-03T20:12:25.015737",
     "exception": false,
     "start_time": "2022-11-03T20:12:24.990375",
     "status": "completed"
    },
    "tags": []
   },
   "outputs": [],
   "source": [
    "train_data['Embarked'] = train_data.Embarked.fillna(train_data.Embarked.dropna().max())\n",
    "test_data['Fare'] = test_data.Fare.fillna(test_data.Fare.dropna().mean())"
   ]
  },
  {
   "cell_type": "markdown",
   "id": "877cf206",
   "metadata": {
    "papermill": {
     "duration": 0.011686,
     "end_time": "2022-11-03T20:12:25.039233",
     "exception": false,
     "start_time": "2022-11-03T20:12:25.027547",
     "status": "completed"
    },
    "tags": []
   },
   "source": [
    "##### we will guess the age from Pclass and Sex:"
   ]
  },
  {
   "cell_type": "code",
   "execution_count": 9,
   "id": "4230630a",
   "metadata": {
    "execution": {
     "iopub.execute_input": "2022-11-03T20:12:25.069470Z",
     "iopub.status.busy": "2022-11-03T20:12:25.069174Z",
     "iopub.status.idle": "2022-11-03T20:12:25.076553Z",
     "shell.execute_reply": "2022-11-03T20:12:25.075453Z"
    },
    "papermill": {
     "duration": 0.02644,
     "end_time": "2022-11-03T20:12:25.082484",
     "exception": false,
     "start_time": "2022-11-03T20:12:25.056044",
     "status": "completed"
    },
    "tags": []
   },
   "outputs": [
    {
     "data": {
      "text/plain": [
       "array([[0., 0., 0.],\n",
       "       [0., 0., 0.]])"
      ]
     },
     "execution_count": 9,
     "metadata": {},
     "output_type": "execute_result"
    }
   ],
   "source": [
    "guess_ages = np.zeros((2,3))\n",
    "guess_ages"
   ]
  },
  {
   "cell_type": "markdown",
   "id": "f7034133",
   "metadata": {
    "papermill": {
     "duration": 0.009323,
     "end_time": "2022-11-03T20:12:25.101516",
     "exception": false,
     "start_time": "2022-11-03T20:12:25.092193",
     "status": "completed"
    },
    "tags": []
   },
   "source": [
    "Now we iterate over Sex (0 or 1) and Pclass (1, 2, 3) to calculate guessed values of Age for the six combinations."
   ]
  },
  {
   "cell_type": "code",
   "execution_count": 10,
   "id": "2fb854c9",
   "metadata": {
    "execution": {
     "iopub.execute_input": "2022-11-03T20:12:25.121767Z",
     "iopub.status.busy": "2022-11-03T20:12:25.121498Z",
     "iopub.status.idle": "2022-11-03T20:12:25.189858Z",
     "shell.execute_reply": "2022-11-03T20:12:25.188967Z"
    },
    "papermill": {
     "duration": 0.08155,
     "end_time": "2022-11-03T20:12:25.192741",
     "exception": false,
     "start_time": "2022-11-03T20:12:25.111191",
     "status": "completed"
    },
    "tags": []
   },
   "outputs": [
    {
     "data": {
      "text/html": [
       "<div>\n",
       "<style scoped>\n",
       "    .dataframe tbody tr th:only-of-type {\n",
       "        vertical-align: middle;\n",
       "    }\n",
       "\n",
       "    .dataframe tbody tr th {\n",
       "        vertical-align: top;\n",
       "    }\n",
       "\n",
       "    .dataframe thead th {\n",
       "        text-align: right;\n",
       "    }\n",
       "</style>\n",
       "<table border=\"1\" class=\"dataframe\">\n",
       "  <thead>\n",
       "    <tr style=\"text-align: right;\">\n",
       "      <th></th>\n",
       "      <th>PassengerId</th>\n",
       "      <th>Survived</th>\n",
       "      <th>Pclass</th>\n",
       "      <th>Name</th>\n",
       "      <th>Sex</th>\n",
       "      <th>Age</th>\n",
       "      <th>SibSp</th>\n",
       "      <th>Parch</th>\n",
       "      <th>Ticket</th>\n",
       "      <th>Fare</th>\n",
       "      <th>Cabin</th>\n",
       "      <th>Embarked</th>\n",
       "    </tr>\n",
       "  </thead>\n",
       "  <tbody>\n",
       "    <tr>\n",
       "      <th>0</th>\n",
       "      <td>1</td>\n",
       "      <td>0</td>\n",
       "      <td>3</td>\n",
       "      <td>Braund, Mr. Owen Harris</td>\n",
       "      <td>0</td>\n",
       "      <td>22</td>\n",
       "      <td>1</td>\n",
       "      <td>0</td>\n",
       "      <td>A/5 21171</td>\n",
       "      <td>7.2500</td>\n",
       "      <td>NaN</td>\n",
       "      <td>S</td>\n",
       "    </tr>\n",
       "    <tr>\n",
       "      <th>1</th>\n",
       "      <td>2</td>\n",
       "      <td>1</td>\n",
       "      <td>1</td>\n",
       "      <td>Cumings, Mrs. John Bradley (Florence Briggs Th...</td>\n",
       "      <td>1</td>\n",
       "      <td>38</td>\n",
       "      <td>1</td>\n",
       "      <td>0</td>\n",
       "      <td>PC 17599</td>\n",
       "      <td>71.2833</td>\n",
       "      <td>C85</td>\n",
       "      <td>C</td>\n",
       "    </tr>\n",
       "    <tr>\n",
       "      <th>2</th>\n",
       "      <td>3</td>\n",
       "      <td>1</td>\n",
       "      <td>3</td>\n",
       "      <td>Heikkinen, Miss. Laina</td>\n",
       "      <td>1</td>\n",
       "      <td>26</td>\n",
       "      <td>0</td>\n",
       "      <td>0</td>\n",
       "      <td>STON/O2. 3101282</td>\n",
       "      <td>7.9250</td>\n",
       "      <td>NaN</td>\n",
       "      <td>S</td>\n",
       "    </tr>\n",
       "    <tr>\n",
       "      <th>3</th>\n",
       "      <td>4</td>\n",
       "      <td>1</td>\n",
       "      <td>1</td>\n",
       "      <td>Futrelle, Mrs. Jacques Heath (Lily May Peel)</td>\n",
       "      <td>1</td>\n",
       "      <td>35</td>\n",
       "      <td>1</td>\n",
       "      <td>0</td>\n",
       "      <td>113803</td>\n",
       "      <td>53.1000</td>\n",
       "      <td>C123</td>\n",
       "      <td>S</td>\n",
       "    </tr>\n",
       "    <tr>\n",
       "      <th>4</th>\n",
       "      <td>5</td>\n",
       "      <td>0</td>\n",
       "      <td>3</td>\n",
       "      <td>Allen, Mr. William Henry</td>\n",
       "      <td>0</td>\n",
       "      <td>35</td>\n",
       "      <td>0</td>\n",
       "      <td>0</td>\n",
       "      <td>373450</td>\n",
       "      <td>8.0500</td>\n",
       "      <td>NaN</td>\n",
       "      <td>S</td>\n",
       "    </tr>\n",
       "  </tbody>\n",
       "</table>\n",
       "</div>"
      ],
      "text/plain": [
       "   PassengerId  Survived  Pclass  \\\n",
       "0            1         0       3   \n",
       "1            2         1       1   \n",
       "2            3         1       3   \n",
       "3            4         1       1   \n",
       "4            5         0       3   \n",
       "\n",
       "                                                Name  Sex  Age  SibSp  Parch  \\\n",
       "0                            Braund, Mr. Owen Harris    0   22      1      0   \n",
       "1  Cumings, Mrs. John Bradley (Florence Briggs Th...    1   38      1      0   \n",
       "2                             Heikkinen, Miss. Laina    1   26      0      0   \n",
       "3       Futrelle, Mrs. Jacques Heath (Lily May Peel)    1   35      1      0   \n",
       "4                           Allen, Mr. William Henry    0   35      0      0   \n",
       "\n",
       "             Ticket     Fare Cabin Embarked  \n",
       "0         A/5 21171   7.2500   NaN        S  \n",
       "1          PC 17599  71.2833   C85        C  \n",
       "2  STON/O2. 3101282   7.9250   NaN        S  \n",
       "3            113803  53.1000  C123        S  \n",
       "4            373450   8.0500   NaN        S  "
      ]
     },
     "execution_count": 10,
     "metadata": {},
     "output_type": "execute_result"
    }
   ],
   "source": [
    "combine = [train_data , test_data]\n",
    "\n",
    "# Converting Sex categories (male and female) to 0 and 1:\n",
    "for dataset in combine:\n",
    "    dataset['Sex'] = dataset['Sex'].map( {'female': 1, 'male': 0} ).astype(int)\n",
    "\n",
    "# Filling missed age feature:\n",
    "\n",
    "for dataset in combine:\n",
    "    for i in range(0, 2):\n",
    "        for j in range(0, 3):\n",
    "            guess_df = dataset[(dataset['Sex'] == i) & \\\n",
    "                                  (dataset['Pclass'] == j+1)]['Age'].dropna()\n",
    "            age_guess = guess_df.median()\n",
    "\n",
    "            # Convert random age float to nearest .5 age\n",
    "            guess_ages[i,j] = int( age_guess/0.5 + 0.5 ) * 0.5\n",
    "            \n",
    "    for i in range(0, 2):\n",
    "        for j in range(0, 3):\n",
    "            dataset.loc[ (dataset.Age.isnull()) & (dataset.Sex == i) & (dataset.Pclass == j+1),\\\n",
    "                    'Age'] = guess_ages[i,j]\n",
    "\n",
    "    dataset['Age'] = dataset['Age'].astype(int)\n",
    "\n",
    "train_data.head()"
   ]
  },
  {
   "cell_type": "code",
   "execution_count": 11,
   "id": "6cb86e42",
   "metadata": {
    "execution": {
     "iopub.execute_input": "2022-11-03T20:12:25.216958Z",
     "iopub.status.busy": "2022-11-03T20:12:25.216642Z",
     "iopub.status.idle": "2022-11-03T20:12:25.227538Z",
     "shell.execute_reply": "2022-11-03T20:12:25.226545Z"
    },
    "papermill": {
     "duration": 0.02697,
     "end_time": "2022-11-03T20:12:25.231927",
     "exception": false,
     "start_time": "2022-11-03T20:12:25.204957",
     "status": "completed"
    },
    "tags": []
   },
   "outputs": [
    {
     "data": {
      "text/plain": [
       "PassengerId      0\n",
       "Survived         0\n",
       "Pclass           0\n",
       "Name             0\n",
       "Sex              0\n",
       "Age              0\n",
       "SibSp            0\n",
       "Parch            0\n",
       "Ticket           0\n",
       "Fare             0\n",
       "Cabin          687\n",
       "Embarked         0\n",
       "dtype: int64"
      ]
     },
     "execution_count": 11,
     "metadata": {},
     "output_type": "execute_result"
    }
   ],
   "source": [
    "train_data.isnull().sum()"
   ]
  },
  {
   "cell_type": "code",
   "execution_count": 12,
   "id": "4029931c",
   "metadata": {
    "execution": {
     "iopub.execute_input": "2022-11-03T20:12:25.255169Z",
     "iopub.status.busy": "2022-11-03T20:12:25.254866Z",
     "iopub.status.idle": "2022-11-03T20:12:25.266085Z",
     "shell.execute_reply": "2022-11-03T20:12:25.265281Z"
    },
    "papermill": {
     "duration": 0.025397,
     "end_time": "2022-11-03T20:12:25.268425",
     "exception": false,
     "start_time": "2022-11-03T20:12:25.243028",
     "status": "completed"
    },
    "tags": []
   },
   "outputs": [
    {
     "data": {
      "text/plain": [
       "PassengerId      0\n",
       "Pclass           0\n",
       "Name             0\n",
       "Sex              0\n",
       "Age              0\n",
       "SibSp            0\n",
       "Parch            0\n",
       "Ticket           0\n",
       "Fare             0\n",
       "Cabin          327\n",
       "Embarked         0\n",
       "dtype: int64"
      ]
     },
     "execution_count": 12,
     "metadata": {},
     "output_type": "execute_result"
    }
   ],
   "source": [
    "test_data.isnull().sum()"
   ]
  },
  {
   "cell_type": "markdown",
   "id": "0e3695e3",
   "metadata": {
    "papermill": {
     "duration": 0.009893,
     "end_time": "2022-11-03T20:12:25.288798",
     "exception": false,
     "start_time": "2022-11-03T20:12:25.278905",
     "status": "completed"
    },
    "tags": []
   },
   "source": [
    "##### There are no important missed data anymore!!!"
   ]
  },
  {
   "cell_type": "markdown",
   "id": "be036c44",
   "metadata": {
    "execution": {
     "iopub.execute_input": "2022-07-20T07:00:02.081752Z",
     "iopub.status.busy": "2022-07-20T07:00:02.080654Z",
     "iopub.status.idle": "2022-07-20T07:00:02.087938Z",
     "shell.execute_reply": "2022-07-20T07:00:02.086151Z",
     "shell.execute_reply.started": "2022-07-20T07:00:02.081692Z"
    },
    "papermill": {
     "duration": 0.009542,
     "end_time": "2022-11-03T20:12:25.308697",
     "exception": false,
     "start_time": "2022-11-03T20:12:25.299155",
     "status": "completed"
    },
    "tags": []
   },
   "source": [
    "### Modeling:"
   ]
  },
  {
   "cell_type": "code",
   "execution_count": 13,
   "id": "8946632b",
   "metadata": {
    "execution": {
     "iopub.execute_input": "2022-11-03T20:12:25.329323Z",
     "iopub.status.busy": "2022-11-03T20:12:25.329026Z",
     "iopub.status.idle": "2022-11-03T20:12:25.612820Z",
     "shell.execute_reply": "2022-11-03T20:12:25.611916Z"
    },
    "papermill": {
     "duration": 0.297064,
     "end_time": "2022-11-03T20:12:25.615416",
     "exception": false,
     "start_time": "2022-11-03T20:12:25.318352",
     "status": "completed"
    },
    "tags": []
   },
   "outputs": [],
   "source": [
    "# ========================================================= #\n",
    "from sklearn.metrics import accuracy_score\n",
    "from sklearn.model_selection import cross_val_score\n",
    "# ========================================================= #\n",
    "from sklearn.tree import DecisionTreeClassifier\n",
    "# ========================================================= #\n",
    "from colorama import Fore"
   ]
  },
  {
   "cell_type": "code",
   "execution_count": 14,
   "id": "1f900f9a",
   "metadata": {
    "execution": {
     "iopub.execute_input": "2022-11-03T20:12:25.631683Z",
     "iopub.status.busy": "2022-11-03T20:12:25.631000Z",
     "iopub.status.idle": "2022-11-03T20:12:25.652521Z",
     "shell.execute_reply": "2022-11-03T20:12:25.651530Z"
    },
    "papermill": {
     "duration": 0.031497,
     "end_time": "2022-11-03T20:12:25.654607",
     "exception": false,
     "start_time": "2022-11-03T20:12:25.623110",
     "status": "completed"
    },
    "tags": []
   },
   "outputs": [
    {
     "data": {
      "text/html": [
       "<div>\n",
       "<style scoped>\n",
       "    .dataframe tbody tr th:only-of-type {\n",
       "        vertical-align: middle;\n",
       "    }\n",
       "\n",
       "    .dataframe tbody tr th {\n",
       "        vertical-align: top;\n",
       "    }\n",
       "\n",
       "    .dataframe thead th {\n",
       "        text-align: right;\n",
       "    }\n",
       "</style>\n",
       "<table border=\"1\" class=\"dataframe\">\n",
       "  <thead>\n",
       "    <tr style=\"text-align: right;\">\n",
       "      <th></th>\n",
       "      <th>Pclass</th>\n",
       "      <th>Sex</th>\n",
       "      <th>Age</th>\n",
       "      <th>SibSp</th>\n",
       "      <th>Parch</th>\n",
       "      <th>Fare</th>\n",
       "      <th>Embarked_C</th>\n",
       "      <th>Embarked_Q</th>\n",
       "      <th>Embarked_S</th>\n",
       "    </tr>\n",
       "  </thead>\n",
       "  <tbody>\n",
       "    <tr>\n",
       "      <th>0</th>\n",
       "      <td>3</td>\n",
       "      <td>0</td>\n",
       "      <td>22</td>\n",
       "      <td>1</td>\n",
       "      <td>0</td>\n",
       "      <td>7.2500</td>\n",
       "      <td>0</td>\n",
       "      <td>0</td>\n",
       "      <td>1</td>\n",
       "    </tr>\n",
       "    <tr>\n",
       "      <th>1</th>\n",
       "      <td>1</td>\n",
       "      <td>1</td>\n",
       "      <td>38</td>\n",
       "      <td>1</td>\n",
       "      <td>0</td>\n",
       "      <td>71.2833</td>\n",
       "      <td>1</td>\n",
       "      <td>0</td>\n",
       "      <td>0</td>\n",
       "    </tr>\n",
       "    <tr>\n",
       "      <th>2</th>\n",
       "      <td>3</td>\n",
       "      <td>1</td>\n",
       "      <td>26</td>\n",
       "      <td>0</td>\n",
       "      <td>0</td>\n",
       "      <td>7.9250</td>\n",
       "      <td>0</td>\n",
       "      <td>0</td>\n",
       "      <td>1</td>\n",
       "    </tr>\n",
       "    <tr>\n",
       "      <th>3</th>\n",
       "      <td>1</td>\n",
       "      <td>1</td>\n",
       "      <td>35</td>\n",
       "      <td>1</td>\n",
       "      <td>0</td>\n",
       "      <td>53.1000</td>\n",
       "      <td>0</td>\n",
       "      <td>0</td>\n",
       "      <td>1</td>\n",
       "    </tr>\n",
       "    <tr>\n",
       "      <th>4</th>\n",
       "      <td>3</td>\n",
       "      <td>0</td>\n",
       "      <td>35</td>\n",
       "      <td>0</td>\n",
       "      <td>0</td>\n",
       "      <td>8.0500</td>\n",
       "      <td>0</td>\n",
       "      <td>0</td>\n",
       "      <td>1</td>\n",
       "    </tr>\n",
       "  </tbody>\n",
       "</table>\n",
       "</div>"
      ],
      "text/plain": [
       "   Pclass  Sex  Age  SibSp  Parch     Fare  Embarked_C  Embarked_Q  Embarked_S\n",
       "0       3    0   22      1      0   7.2500           0           0           1\n",
       "1       1    1   38      1      0  71.2833           1           0           0\n",
       "2       3    1   26      0      0   7.9250           0           0           1\n",
       "3       1    1   35      1      0  53.1000           0           0           1\n",
       "4       3    0   35      0      0   8.0500           0           0           1"
      ]
     },
     "execution_count": 14,
     "metadata": {},
     "output_type": "execute_result"
    }
   ],
   "source": [
    "# First we will select the features that we will use:\n",
    "\n",
    "features = [\"Pclass\" , \"Sex\" , \"Age\" , \"SibSp\" , \"Parch\" , \"Fare\" , \"Embarked\"]\n",
    "\n",
    "# Categorical to indicator variables:\n",
    "X_train = pd.get_dummies(train_data[features])\n",
    "Y_train = train_data[\"Survived\"]\n",
    "X_test = pd.get_dummies(test_data[features])\n",
    "\n",
    "X_train.head()"
   ]
  },
  {
   "cell_type": "code",
   "execution_count": 15,
   "id": "4748ceef",
   "metadata": {
    "execution": {
     "iopub.execute_input": "2022-11-03T20:12:25.670799Z",
     "iopub.status.busy": "2022-11-03T20:12:25.670059Z",
     "iopub.status.idle": "2022-11-03T20:12:25.676858Z",
     "shell.execute_reply": "2022-11-03T20:12:25.676072Z"
    },
    "papermill": {
     "duration": 0.017271,
     "end_time": "2022-11-03T20:12:25.678779",
     "exception": false,
     "start_time": "2022-11-03T20:12:25.661508",
     "status": "completed"
    },
    "tags": []
   },
   "outputs": [],
   "source": [
    "def print_scores(model ,X_train , Y_train,predictions , cv_splites=10):\n",
    "    print(Fore.BLUE , \"The mean accuracy score of the train data is %.5f\" % model.score(X_train, Y_train))\n",
    "    CV_scores = cross_val_score(model, X_train, Y_train, cv=cv_splites)\n",
    "    print(Fore.BLACK ,\"The individual cross-validation scores are: \\n\",CV_scores)\n",
    "    print(Fore.BLACK ,\"The minimum cross-validation score is %.3f\" % min(CV_scores))\n",
    "    print(Fore.BLACK ,\"The maximum cross-validation score is %.3f\" % max(CV_scores))\n",
    "    print(Fore.YELLOW ,\"The mean  cross-validation   score is %.5f ± %0.2f\" % (CV_scores.mean(), CV_scores.std() * 2))\n",
    "    print(Fore.RED ,\"The test (i.e. leaderboard)  score is %.5f (this score is unknown)\" % accuracy_score(true_solution[\"Survived\"],predictions))"
   ]
  },
  {
   "cell_type": "code",
   "execution_count": 16,
   "id": "62c31604",
   "metadata": {
    "execution": {
     "iopub.execute_input": "2022-11-03T20:12:25.694702Z",
     "iopub.status.busy": "2022-11-03T20:12:25.693968Z",
     "iopub.status.idle": "2022-11-03T20:12:25.747834Z",
     "shell.execute_reply": "2022-11-03T20:12:25.746845Z"
    },
    "papermill": {
     "duration": 0.063585,
     "end_time": "2022-11-03T20:12:25.749936",
     "exception": false,
     "start_time": "2022-11-03T20:12:25.686351",
     "status": "completed"
    },
    "tags": []
   },
   "outputs": [
    {
     "name": "stdout",
     "output_type": "stream",
     "text": [
      "\u001b[34m The mean accuracy score of the train data is 0.66779\n",
      "\u001b[30m The individual cross-validation scores are: \n",
      " [0.64444444 0.58426966 0.58426966 0.62921348 0.70786517 0.70786517\n",
      " 0.75280899 0.6741573  0.68539326 0.70786517]\n",
      "\u001b[30m The minimum cross-validation score is 0.584\n",
      "\u001b[30m The maximum cross-validation score is 0.753\n",
      "\u001b[33m The mean  cross-validation   score is 0.66782 ± 0.11\n",
      "\u001b[31m The test (i.e. leaderboard)  score is 0.60287 (this score is unknown)\n"
     ]
    }
   ],
   "source": [
    "model = DecisionTreeClassifier(max_depth=1 , max_features=2 ,random_state=7)\n",
    "model.fit(X_train, Y_train)\n",
    "predictions = model.predict(X_test)\n",
    "print_scores(model, X_train, Y_train, predictions)"
   ]
  },
  {
   "cell_type": "code",
   "execution_count": 17,
   "id": "e3b0a56f",
   "metadata": {
    "execution": {
     "iopub.execute_input": "2022-11-03T20:12:25.765204Z",
     "iopub.status.busy": "2022-11-03T20:12:25.764949Z",
     "iopub.status.idle": "2022-11-03T20:12:25.831079Z",
     "shell.execute_reply": "2022-11-03T20:12:25.829841Z"
    },
    "papermill": {
     "duration": 0.076153,
     "end_time": "2022-11-03T20:12:25.833119",
     "exception": false,
     "start_time": "2022-11-03T20:12:25.756966",
     "status": "completed"
    },
    "tags": []
   },
   "outputs": [
    {
     "name": "stdout",
     "output_type": "stream",
     "text": [
      "\u001b[34m The mean accuracy score of the train data is 0.97980\n",
      "\u001b[30m The individual cross-validation scores are: \n",
      " [0.74444444 0.7752809  0.71910112 0.75280899 0.83146067 0.80898876\n",
      " 0.80898876 0.75280899 0.80898876 0.78651685]\n",
      "\u001b[30m The minimum cross-validation score is 0.719\n",
      "\u001b[30m The maximum cross-validation score is 0.831\n",
      "\u001b[33m The mean  cross-validation   score is 0.77894 ± 0.07\n",
      "\u001b[31m The test (i.e. leaderboard)  score is 0.71770 (this score is unknown)\n"
     ]
    }
   ],
   "source": [
    "model = DecisionTreeClassifier(random_state=7)\n",
    "model.fit(X_train, Y_train)\n",
    "predictions = model.predict(X_test)\n",
    "print_scores(model, X_train, Y_train, predictions)"
   ]
  },
  {
   "cell_type": "code",
   "execution_count": 18,
   "id": "1daab6a2",
   "metadata": {
    "execution": {
     "iopub.execute_input": "2022-11-03T20:12:25.850135Z",
     "iopub.status.busy": "2022-11-03T20:12:25.848586Z",
     "iopub.status.idle": "2022-11-03T20:12:25.901940Z",
     "shell.execute_reply": "2022-11-03T20:12:25.900932Z"
    },
    "papermill": {
     "duration": 0.064303,
     "end_time": "2022-11-03T20:12:25.904510",
     "exception": false,
     "start_time": "2022-11-03T20:12:25.840207",
     "status": "completed"
    },
    "tags": []
   },
   "outputs": [
    {
     "name": "stdout",
     "output_type": "stream",
     "text": [
      "\u001b[34m The mean accuracy score of the train data is 0.82379\n",
      "\u001b[30m The individual cross-validation scores are: \n",
      " [0.82222222 0.84269663 0.7752809  0.85393258 0.84269663 0.79775281\n",
      " 0.80898876 0.78651685 0.85393258 0.83146067]\n",
      "\u001b[30m The minimum cross-validation score is 0.775\n",
      "\u001b[30m The maximum cross-validation score is 0.854\n",
      "\u001b[33m The mean  cross-validation   score is 0.82155 ± 0.05\n",
      "\u001b[31m The test (i.e. leaderboard)  score is 0.78947 (this score is unknown)\n"
     ]
    }
   ],
   "source": [
    "model = DecisionTreeClassifier(max_depth=3 , max_features=4 ,random_state=7)\n",
    "model.fit(X_train, Y_train)\n",
    "predictions = model.predict(X_test)\n",
    "print_scores(model, X_train, Y_train, predictions)"
   ]
  },
  {
   "cell_type": "markdown",
   "id": "58f459b9",
   "metadata": {
    "papermill": {
     "duration": 0.006904,
     "end_time": "2022-11-03T20:12:25.919153",
     "exception": false,
     "start_time": "2022-11-03T20:12:25.912249",
     "status": "completed"
    },
    "tags": []
   },
   "source": [
    "- This score is much better because the training score (82.3%) is not far from cross-validation score (82.1%)\n",
    "- The individual cross-validation scores variance became less (from 77.5% to 85.4%).\n",
    "- This state leads to higher leaderboard result (78.9%). But we don't know it yet:(, So we want to find best cross-validation score without Overfitting nor Underfitting."
   ]
  },
  {
   "cell_type": "code",
   "execution_count": 19,
   "id": "f163883c",
   "metadata": {
    "execution": {
     "iopub.execute_input": "2022-11-03T20:12:25.934626Z",
     "iopub.status.busy": "2022-11-03T20:12:25.934363Z",
     "iopub.status.idle": "2022-11-03T20:12:27.566004Z",
     "shell.execute_reply": "2022-11-03T20:12:27.564562Z"
    },
    "papermill": {
     "duration": 1.641862,
     "end_time": "2022-11-03T20:12:27.568341",
     "exception": false,
     "start_time": "2022-11-03T20:12:25.926479",
     "status": "completed"
    },
    "tags": []
   },
   "outputs": [
    {
     "name": "stdout",
     "output_type": "stream",
     "text": [
      "\u001b[34m The mean accuracy score of the train data is 0.85859\n",
      "\u001b[30m The individual cross-validation scores are: \n",
      " [0.76666667 0.85393258 0.75280899 0.91011236 0.88764045 0.80898876\n",
      " 0.80898876 0.78651685 0.87640449 0.84269663]\n",
      "\u001b[30m The minimum cross-validation score is 0.753\n",
      "\u001b[30m The maximum cross-validation score is 0.910\n",
      "\u001b[33m The mean  cross-validation   score is 0.82948 ± 0.10\n",
      "\u001b[31m The test (i.e. leaderboard)  score is 0.79426 (this score is unknown)\n"
     ]
    }
   ],
   "source": [
    "from sklearn.ensemble import RandomForestClassifier\n",
    "\n",
    "model = RandomForestClassifier(n_estimators= 80 ,max_depth=5 , max_features=8 ,min_samples_split=3 ,random_state=7)\n",
    "model.fit(X_train, Y_train)\n",
    "predictions = model.predict(X_test)\n",
    "print_scores(model, X_train, Y_train, predictions)"
   ]
  },
  {
   "cell_type": "markdown",
   "id": "d0400da6",
   "metadata": {
    "papermill": {
     "duration": 0.007448,
     "end_time": "2022-11-03T20:12:27.583661",
     "exception": false,
     "start_time": "2022-11-03T20:12:27.576213",
     "status": "completed"
    },
    "tags": []
   },
   "source": [
    "#### Conclusions:"
   ]
  }
 ],
 "metadata": {
  "kernelspec": {
   "display_name": "Python 3",
   "language": "python",
   "name": "python3"
  },
  "language_info": {
   "codemirror_mode": {
    "name": "ipython",
    "version": 3
   },
   "file_extension": ".py",
   "mimetype": "text/x-python",
   "name": "python",
   "nbconvert_exporter": "python",
   "pygments_lexer": "ipython3",
   "version": "3.7.12"
  },
  "papermill": {
   "default_parameters": {},
   "duration": 12.766497,
   "end_time": "2022-11-03T20:12:28.110487",
   "environment_variables": {},
   "exception": null,
   "input_path": "__notebook__.ipynb",
   "output_path": "__notebook__.ipynb",
   "parameters": {},
   "start_time": "2022-11-03T20:12:15.343990",
   "version": "2.3.4"
  }
 },
 "nbformat": 4,
 "nbformat_minor": 5
}
